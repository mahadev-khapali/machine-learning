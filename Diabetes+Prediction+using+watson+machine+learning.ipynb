{
 "cells": [
  {
   "cell_type": "markdown",
   "metadata": {
    "collapsed": true
   },
   "source": [
    "# Diabetes Prediction using watson machine learning\n",
    "\n",
    "IBM Data Science Experience (DSX) is an interactive, collaborative, cloud-based environment where data scientists can use multiple tools to achieve insights. Data scientists can use the best of open source, tap into IBM's unique features, grow their skills, and collaborate with teams. \n",
    "One of the many features of DSX provides the capability to create and train a machine learning model in DSX with little to no coding. This model can subsequently be saved and deployed to Watson Machine Learning on IBM Bluemix and called for scoring in real-time. \n",
    "This tutorial is a continuation of the logistic regression analysis tutorial at: \n",
    "https://datascience.ibm.com/docs/content/analyze-data/ml-example-log-regress.html \n",
    "which creates, trains, saves and deploys a logistic regression model that predicts the possibility for a tent purchase based on age, sex, marital status and job profession for an individual. In this tutorial, a very simple Python Flask web application front end will be created to call this deployed model in real time. \n",
    "\n",
    "## Table of contents\n",
    "\n",
    "1.  [Test model access by using a notebook](#test).\n",
    "    - [1.1 Prerequisites](#test1).\n",
    "    - [1.2 Retrieve your credentials](#test2).\n",
    "    - [1.3 Authenticate and import libraries](#test3).   \n",
    "2.  [Create a user interface](#create).\n",
    "3.  [Publish app to Bluemix](#publish).\n",
    "4.  [Summary and next steps](#summary).\n",
    "\n",
    "<a id=\"test\"></a>\n",
    "## 1. Test model access by using a notebook. \n",
    "\n",
    "The first part of this notebook will confirm that the deployed model can be accessed via an external API. Please note that the credentials and endpoint used in this tutorial are only examples. You must substitute your own credentials and endpoint values. \n",
    "\n",
    "<a id=\"test1\"></a>\n",
    "### 1.1 Prerequisites.\n",
    "\n",
    "This notebook and the corresponding tutorial sections require several IBM Bluemix services. \n",
    "\n",
    "- An Apache Spark instance which was created with your Data Science Experience account\n",
    "- An Object Storage instance which was also created with your Data Science Experience account\n",
    "- An IBM Watson Machine Learning instance which will need to be created\n",
    "- A Python Flask instance which will be created later as part of this tutorial\n",
    "\n",
    "For more information about setting up your machine learning service, see [Setting up your machine learning environment](https://datascience.ibm.com/docs/content/analyze-data/ml-setup.html).\n",
    "\n",
    "<a id=\"test2\"></a>\n",
    "### 1.2 Retrieve your credentials.\n",
    "\n",
    "To run the code samples in this notebook, you must supply information, such as the URL, username, password, and scoring endpoint variables from your environment. The details on how to do this are described in the following steps:\n",
    "\n",
    "1. Log in to your **Bluemix** account and, from the dashboard, select the **IBM Watson Machine Learning** service that you created.\n",
    "2. Click **Service credentials**.\n",
    "3. Click **View credentials** and then copy the values from the **URL**, **username**, and **password** fields to the corresponding `URL`, `username`, and `password` variables in the code cells in this notebook. \n",
    "4. To find the scoring endpoint, log in to **Data Science Experience**.\n",
    "5. Click **Projects** and from the list, click your project.\n",
    "6. On the **Analytics Assets** tab, in the **Models** section, click the model.\n",
    "7. In the **Deployments** section, click the model deployment and then, on the **Details** tab, copy the  **Scoring End Point** and paste it into the `scoring_endpoint` variable in this notebook.\n",
    "\n",
    "<a id=\"test3\"></a>\n",
    "### 1.3 Authenticate and import libraries.\n",
    "\n",
    "After you update the following code cells with your specific information, you are ready to run the cells. Run the following cell to define your credentials to the Watson Machine Learning service and to import necessary libraries."
   ]
  },
  {
   "cell_type": "code",
   "execution_count": 1,
   "metadata": {
    "collapsed": true
   },
   "outputs": [],
   "source": [
    "# @hidden_cell\n",
    "# Copy and paste url, username and password from Watson Machine Learning service credentials.\n",
    "# Copy scoring_endpoint from Data Science Experience deployed model API details.\n",
    "url = 'https://ibm-watson-ml.mybluemix.net'\n",
    "username = '5015d396-50a5-46d2-ae64-cab816852e7f'\n",
    "password = '3621d6f6-f18a-4eea-9cf4-b8ace4adca20'\n",
    "scoring_endpoint = 'https://ibm-watson-ml.mybluemix.net/v3/wml_instances/cb5bd88b-ea9c-4854-b515-55339ef7be7f/published_models/b31e58c4-55ad-4490-8a2d-8a33ece3eefc/deployments/9355a5b1-f1fe-4996-9b8f-8eb1d0771da0/online'\n",
    "import urllib3, requests, json"
   ]
  },
  {
   "cell_type": "markdown",
   "metadata": {},
   "source": [
    "To retrieve the token that you need to call the scoring API, run the following code:"
   ]
  },
  {
   "cell_type": "code",
   "execution_count": 2,
   "metadata": {
    "collapsed": true
   },
   "outputs": [],
   "source": [
    "# Retrieves token to be used to call scoring API\n",
    "headers = urllib3.util.make_headers(basic_auth='{}:{}'.format(username, password))\n",
    "path = '{}/v3/identity/token'.format(url)\n",
    "response = requests.get(path, headers=headers)\n",
    "mltoken = 'Bearer ' +json.loads(response.text).get('token')"
   ]
  },
  {
   "cell_type": "markdown",
   "metadata": {},
   "source": [
    "To call the scoring endpoint with some initial sample data, run the following code:"
   ]
  },
  {
   "cell_type": "code",
   "execution_count": 3,
   "metadata": {},
   "outputs": [
    {
     "name": "stdout",
     "output_type": "stream",
     "text": [
      "{\n",
      "  \"fields\": [\"Glucose\", \"BloodPressure\", \"Insulin\", \"BMI\", \"Age\", \"features\", \"rawPrediction\", \"probability\", \"prediction\", \"nodeADP_class\", \"nodeADP_classes\"],\n",
      "  \"values\": [[148, 72, 0, 33.600000, 50, [4.829845079402859, 3.4558710787756155, 0.0, 4.2336304444076465, 4.243663572310081], [-0.631395783382672, 0.631395783382672], [0.34719411556234075, 0.6528058844376593], 1.0, 1.0, [0.0, 1.0]]]\n",
      "}\n"
     ]
    }
   ],
   "source": [
    "# Call scoring endpoint with data payload\n",
    "scoring_header = {'Content-Type': 'application/json', 'Authorization': mltoken}\n",
    "payload = {\"fields\": [\"Glucose\",\"BloodPressure\",\"Insulin\",\"BMI\", \"Age\"],\"values\": [[148, 72, 0, 33.6, 50]]}\n",
    "scoring = requests.post(scoring_endpoint, json=payload, headers=scoring_header)\n",
    "print scoring.text"
   ]
  },
  {
   "cell_type": "markdown",
   "metadata": {},
   "source": [
    "\n",
    "<a id=\"summary\"></a>\n",
    "## 2. Summary and next steps\n",
    "\n",
    "Congratulations! You have completed this tutorial that demonstrates how a deployed model in IBM Watson Machine Learning can be called in real time for scoring. By using  advanced web application development skills, the user interface can be significantly enhanced and other web app technologies leveraged. \n"
   ]
  },
  {
   "cell_type": "markdown",
   "metadata": {},
   "source": [
    "Copyright © 2017 IBM. This notebook and its source code are released under the terms of the MIT License."
   ]
  }
 ],
 "metadata": {
  "kernelspec": {
   "display_name": "Python 2 with Spark 2.1",
   "language": "python",
   "name": "python2-spark21"
  },
  "language_info": {
   "codemirror_mode": {
    "name": "ipython",
    "version": 2
   },
   "file_extension": ".py",
   "mimetype": "text/x-python",
   "name": "python",
   "nbconvert_exporter": "python",
   "pygments_lexer": "ipython2",
   "version": "2.7.11"
  }
 },
 "nbformat": 4,
 "nbformat_minor": 1
}
